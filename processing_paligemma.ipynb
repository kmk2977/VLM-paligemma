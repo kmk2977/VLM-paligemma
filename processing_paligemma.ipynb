{
 "cells": [
  {
   "cell_type": "code",
   "execution_count": null,
   "metadata": {},
   "outputs": [],
   "source": [
    "from typing import Dict, List, optional, Union, Tuple, Iterable\n",
    "import numpy as num_patchesfrom PIL import Image\n",
    "import torch"
   ]
  },
  {
   "cell_type": "code",
   "execution_count": null,
   "metadata": {},
   "outputs": [],
   "source": [
    "IMAGENET_STANDARD_MEAN = [0.5, 0.5, 0.5]\n",
    "IMAGENET_STANDARD_STD = [0.5, 0.5, 0.5]"
   ]
  },
  {
   "cell_type": "code",
   "execution_count": null,
   "metadata": {},
   "outputs": [],
   "source": [
    "def add_image_tokens_to_prompt(prefix_prompt, bos_token, image_seq_len, image_token):\n",
    "    #the input text is tokenized normally\n",
    "    #a <bos> token is added in the beginning, and an additional newline token (\\n) is appended\n",
    "    #this newline token is essential part of input prompt the model was trained with, so adding  it explicitly ensures its always there\n",
    "    #the tokenized text is also prefixed with a fixed number of <image> tokens\n",
    "    #the '\\n' should be tokenized separately\n",
    "    return f\"{image_token * image_seq_len}{bos_token}{prefix_prompt}\\n\""
   ]
  },
  {
   "cell_type": "code",
   "execution_count": null,
   "metadata": {},
   "outputs": [],
   "source": [
    "def resize(image: Image, size: Tuple[int, int], resample: Image.Resampling = None, reducing_gap: Optional[int] = None) -> np.ndarray:\n",
    "    height, width = size\n",
    "    resized_image = image.resize((width, height), resample=resample, reducing_gap=reducing_gap)\n",
    "    return resized_image"
   ]
  },
  {
   "cell_type": "code",
   "execution_count": null,
   "metadata": {},
   "outputs": [],
   "source": [
    "def rescale(image: np.ndarry, scale: float, dtype: np.dtype = np.float32) -> np.ndarray:\n",
    "    rescaled_image = image * scalerescaled_image = rescaled_image.astype(dtype)\n",
    "    return rescaled_image"
   ]
  },
  {
   "cell_type": "code",
   "execution_count": null,
   "metadata": {},
   "outputs": [],
   "source": [
    "def normalize(image: np.ndarray, mean: Union[float, Iterable[float]], std: Union[float, Iterable[float]]) -> np.ndarray:\n",
    "    mean = np.array(mean, dtype=image.dtype)\n",
    "    std = np.array(std, dtype=image.dtype)\n",
    "    image = (image - mean) / std\n",
    "    return image"
   ]
  },
  {
   "cell_type": "code",
   "execution_count": null,
   "metadata": {},
   "outputs": [],
   "source": [
    "def process_images(images: List[Image.Image], size: Dict[str, int] = None,\n",
    "    resample: Image.Resampling = None, rescale_factor: floar = None,\n",
    "    image_mean: Optional[Union[float, List[float]]] = None,\n",
    "    image_std: Optional[Union[float, List[float]]] = None) -> List[np.ndarray]:\n",
    "    height, width = size[0], size[1]\n",
    "    images = [resize(image=image, size=(height, width), resample=resample) for image in images]\n",
    "    #convert each image to a numpy array\n",
    "    images = [np.array(image) for image in images]\n",
    "    #rescale the pixel values to be in range [0,1]\n",
    "    images = [rescale(image, scale=rescale_factor) for image in iamges]\n",
    "    #normalize the images to have mean 0 and standard deviation of 1\n",
    "    images = [normalize(image, mean=image_mean, std=image_std) for image in images]\n",
    "    #move the channel dimension to first dimension. the model expects image in [channel, height, width]\n",
    "    images = [image.transpose(2, 0, 1) for image in images]\n",
    "    return images"
   ]
  },
  {
   "cell_type": "code",
   "execution_count": null,
   "metadata": {},
   "outputs": [],
   "source": [
    "class PaliGemmaProcessor:\n",
    "    #place holder tokens that will be replaced with the embeddings extracted by the vision encoder\n",
    "    IMAGE_TOKEN = \"<image>\"\n",
    "    \n",
    "    def __init__(self, tokenizer, num_image_tokens: int, image-size: int):\n",
    "        super().__init__()\n",
    "\n",
    "        self.image_seq_length = num_image_tokens\n",
    "        self.image_size = image_size\n",
    "\n",
    "        tokens_to_add = {\"additional_special_tokens\": [self.IMAGE_TOKEN]}\n",
    "        tokenizer.additional_special_tokens(tokens_to_add)\n",
    "        EXTRA_TOKENS = [\n",
    "            f\"<loc{i:04d}>\" for i in range(1024)\n",
    "        ]#used for object detection\n",
    "        EXTRA_TOKENS += [\n",
    "            f\"<seg{i:03d}>\" for i in range(128)\n",
    "        ]#used for object segementation\n",
    "        tokenizer.add_tokens(EXTRA_TOKENS)\n",
    "        self.image_token_id = tokenizer.convert_tokens_to_ids(self.IMAGE_TOKEN)\n",
    "        tokenizer.add_bos_token = False\n",
    "        tokenizer.add_eos_token = False\n",
    "\n",
    "        self.tokenizer = tokenizer\n",
    "\n",
    "    def __call__(self, text: List[str], images: List[Image.Image], padding: str = \"longest\", truncation: bool = True) -> dict: \n",
    "        assert len(images) == 1 and len(text) == 1, f\"Received {len(images)} images for {len(text)} prompts.\"\n",
    "\n",
    "        pixel_values = process_images(images, size=(self.image_size, self.image_size),\n",
    "                                      resample=Image.Resampling.BICUBIC, rescale_factor=1 / 255.0,\n",
    "                                      image_mean = IMAGENET_STANDARD_MEAN, image_std = IMAGENET_STANDARD_STD)\n",
    "\n",
    "        #convert the lsit of numpy arrays to a single numpy array with shape [batch_size, channel, height, width]\n",
    "        pixel_values = np.stack(pixel_values, axis=0)\n",
    "        #convert the numpy array to a pytorch tensor\n",
    "        pixel_values = torch.tensor(pixel_values)\n",
    "\n",
    "        #prepend a 'elf.image_seq_length' number of image tokens to the prompt\n",
    "        input_strings = [\n",
    "            add_image_tokens_to_prompt(\n",
    "                prefix_prompt = prompt,\n",
    "                bos_token = self.tokenizer.bos_token,\n",
    "                image_seq_len = self.image_seq_length,\n",
    "                image_token = self.IMAGE_TOKEN\n",
    "            )\n",
    "            for prompt in text\n",
    "        ]\n",
    "\n",
    "        #returns the input_ids and attention_mask as pytorch tensors\n",
    "        #hello world -> [5,2,9]#input_ids ->[[...],[...],[...]]#embeddings by embedding layer #one vector for each token\n",
    "        inputs = self.tokenizer(\n",
    "            input_strings,\n",
    "            return_tensors=\"pt\",\n",
    "            padding=padding,\n",
    "            truncation=truncation\n",
    "        )\n",
    "\n",
    "        return_data = {\"pixel_values\": pixel_values, **inputs}\n",
    "\n",
    "        return return_data"
   ]
  }
 ],
 "metadata": {
  "language_info": {
   "name": "python"
  }
 },
 "nbformat": 4,
 "nbformat_minor": 2
}
