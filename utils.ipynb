{
 "cells": [
  {
   "cell_type": "code",
   "execution_count": null,
   "metadata": {},
   "outputs": [],
   "source": [
    "from gemma import PaligemmaForConditionGeneration, PaliGemmaConfig\n",
    "from transformers import AutoTokenizer\n",
    "import json\n",
    "import glob\n",
    "from safetensors import safe_open\n",
    "from typing import Tuple\n",
    "import os"
   ]
  },
  {
   "cell_type": "code",
   "execution_count": null,
   "metadata": {},
   "outputs": [],
   "source": [
    "def load_hf_model(model_path: str, device: str) -> Tuple[PaligemmaForConditionGeneration, AutoTokenizer]:\n",
    "    #load tokenizer\n",
    "    tokenizer = AutoTokenizer.from_pretrained(model_path, padding_side=\"right\")\n",
    "    assert tokenizer.padding_side == \"right\"\n",
    "\n",
    "    #find all *.safetensors files\n",
    "    safetensors_files = glob.glob(os.path.join(model_path, \"*.safetensors\"))\n",
    "\n",
    "    #... and load them one by one in tensors directory\n",
    "    tensors = {}\n",
    "    fro safetensors_file in safetensors_files:\n",
    "    with safe_open(safetensors_file, framework=\"pt\", device=\"cpu\") as f:\n",
    "        for key in f.keys():\n",
    "            tensors[key] = f.get_tensor(key)\n",
    "\n",
    "    #load models config\n",
    "    with open(os.path.join(model_path, \"config.json\"), \"r\") as f:\n",
    "        model_config_file = json.load(f)\n",
    "        config = PaliGemmaConfig(**model_config_file)\n",
    "\n",
    "    #create the model using the config\n",
    "    model = PaligemmaForConditionGeneration(config).to(device)\n",
    "\n",
    "    #load the state dict of the model\n",
    "    model.load_state_dict(tensors, strict=False)\n",
    "\n",
    "    #tie weigths\n",
    "    model.tie_weights()\n",
    "\n",
    "    return (model, tokenizer)"
   ]
  }
 ],
 "metadata": {
  "language_info": {
   "name": "python"
  }
 },
 "nbformat": 4,
 "nbformat_minor": 2
}
